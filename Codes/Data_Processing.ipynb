{
 "cells": [
  {
   "cell_type": "code",
   "execution_count": 1,
   "id": "523891fa",
   "metadata": {},
   "outputs": [
    {
     "name": "stdout",
     "output_type": "stream",
     "text": [
      "['Datasets\\\\Bitcoin Historical Data.csv', 'Datasets\\\\BSE-500 Historical Data.csv', 'Datasets\\\\Ethereum Historical Data.csv', 'Datasets\\\\Euro Stoxx 50 Historical Data.csv', 'Datasets\\\\HLL Historical Data.csv', 'Datasets\\\\India 10-Year Bond Yield Historical Data.csv', 'Datasets\\\\India VIX Historical Data.csv', 'Datasets\\\\Investing.com USD Index Historical Data.csv', 'Datasets\\\\Nikkei 225 Historical Data.csv', 'Datasets\\\\S&P 500 Historical Data.csv', 'Datasets\\\\Shanghai Composite Historical Data.csv', 'Datasets\\\\WTI_USD Historical Data.csv', 'Datasets\\\\XAU_USD Historical Data.csv']\n"
     ]
    }
   ],
   "source": [
    "import pandas as pd\n",
    "import glob\n",
    "import os\n",
    "\n",
    "folder = \"Datasets\"\n",
    "files = glob.glob(os.path.join(folder, \"*.csv\"))\n",
    "print(files)   # check what files are picked up\n"
   ]
  },
  {
   "cell_type": "code",
   "execution_count": null,
   "id": "b3faca6c",
   "metadata": {},
   "outputs": [],
   "source": [
    "dfs = [pd.read_csv(f, parse_dates=[\"Date\"], dayfirst=True) for f in files] #load  CSVs into memory as a list of DataFrames with dates parsed.\n"
   ]
  },
  {
   "cell_type": "code",
   "execution_count": null,
   "id": "82d97471",
   "metadata": {},
   "outputs": [
    {
     "name": "stdout",
     "output_type": "stream",
     "text": [
      "        Date  Btc_chnge  Bse_500_change  ETH_chng  EURO50_change  HLL_change  \\\n",
      "0 2023-01-01       0.99             NaN      0.37            NaN         NaN   \n",
      "1 2023-01-02       0.59           -0.33     -0.13          -0.08       -0.78   \n",
      "2 2023-01-03      -1.53            0.36     -3.84          -0.14        0.20   \n",
      "3 2023-01-04      -2.03           -0.20     -1.82          -0.68       -0.76   \n",
      "4 2023-01-05      -1.06           -0.37      0.76           0.37       -0.58   \n",
      "\n",
      "   Ind_10Y  Ind_vix_chg  Us_index_Chg  Nikkei_chg  S&P_chg  SCH_chg  WTI_chg  \\\n",
      "0      NaN          NaN           NaN         NaN      NaN      NaN      NaN   \n",
      "1     0.32        -2.09           NaN         NaN      NaN      NaN     1.99   \n",
      "2     0.32        -8.87           NaN         NaN    -0.01    -0.47    -0.38   \n",
      "3    -0.65        -2.79           NaN       -0.92     0.40     0.70    -2.39   \n",
      "4     0.00         2.86           NaN       -1.22    -0.56    -0.02     1.56   \n",
      "\n",
      "   XAU/USD_Change  \n",
      "0             NaN  \n",
      "1           -0.83  \n",
      "2            0.83  \n",
      "3           -0.33  \n",
      "4           -1.26  \n"
     ]
    }
   ],
   "source": [
    "final = dfs[0]\n",
    "for df in dfs[1:]:\n",
    "    final = pd.merge(final, df, on=\"Date\", how=\"outer\") # merge all DataFrames on the \"Date\" column using an outer join.\n",
    "\n",
    "final = final.sort_values(\"Date\").reset_index(drop=True) # sort by date and reset index\n",
    "print(final.head())\n"
   ]
  },
  {
   "cell_type": "code",
   "execution_count": null,
   "id": "1d994238",
   "metadata": {},
   "outputs": [],
   "source": [
    "final = final.fillna(0) # fill missing values with 0\n",
    "final.to_csv(\"final.csv\", index=False) # save the final DataFrame"
   ]
  }
 ],
 "metadata": {
  "kernelspec": {
   "display_name": "Python 3",
   "language": "python",
   "name": "python3"
  },
  "language_info": {
   "codemirror_mode": {
    "name": "ipython",
    "version": 3
   },
   "file_extension": ".py",
   "mimetype": "text/x-python",
   "name": "python",
   "nbconvert_exporter": "python",
   "pygments_lexer": "ipython3",
   "version": "3.10.11"
  }
 },
 "nbformat": 4,
 "nbformat_minor": 5
}
